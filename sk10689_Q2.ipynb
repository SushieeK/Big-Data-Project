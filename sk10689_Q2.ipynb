{
 "cells": [
  {
   "cell_type": "code",
   "execution_count": 19,
   "id": "b192548d",
   "metadata": {},
   "outputs": [],
   "source": [
    "# Importing the necessary libraries\n",
    "from pymongo import MongoClient, GEOSPHERE\n",
    "from pprint import pprint\n",
    "from datetime import datetime"
   ]
  },
  {
   "cell_type": "code",
   "execution_count": 20,
   "id": "865e7b0e",
   "metadata": {},
   "outputs": [],
   "source": [
    "# Settingup Connection to MongoDB\n",
    "username = \"sk10689\"\n",
    "password = \"sk10689\"\n",
    "host = \"mongo-csgy-6513-spring.db\"\n",
    "auth_database = \"sk10689\""
   ]
  },
  {
   "cell_type": "code",
   "execution_count": 21,
   "id": "160528c0",
   "metadata": {},
   "outputs": [],
   "source": [
    "client = MongoClient(f\"mongodb://{username}:{password}@{host}/{auth_database}\")"
   ]
  },
  {
   "cell_type": "code",
   "execution_count": 22,
   "id": "e6d6cc86",
   "metadata": {},
   "outputs": [
    {
     "data": {
      "text/plain": [
       "Database(MongoClient(host=['mongo-csgy-6513-spring.db:27017'], document_class=dict, tz_aware=False, connect=True), 'sk10689')"
      ]
     },
     "execution_count": 22,
     "metadata": {},
     "output_type": "execute_result"
    }
   ],
   "source": [
    "db = client[auth_database]\n",
    "db"
   ]
  },
  {
   "cell_type": "markdown",
   "id": "0512780c",
   "metadata": {},
   "source": [
    "# Q2. Restaurant foreclosures in North Carolina – 75 Points"
   ]
  },
  {
   "cell_type": "code",
   "execution_count": 23,
   "id": "9ef91c01",
   "metadata": {},
   "outputs": [
    {
     "data": {
      "text/plain": [
       "'geometry_2dsphere'"
      ]
     },
     "execution_count": 23,
     "metadata": {},
     "output_type": "execute_result"
    }
   ],
   "source": [
    "# Creating a geospatial index on the 'geometry' field of the 'durham' collection\n",
    "db.durham.create_index([(\"geometry\", GEOSPHERE)], background=True)"
   ]
  },
  {
   "cell_type": "code",
   "execution_count": 24,
   "id": "f55c140c",
   "metadata": {},
   "outputs": [],
   "source": [
    "# Filtering restaurants in Durham with seating capacity of at least 100 and create a polygonal boundary around them\n",
    "filter_restaurants = db.restaurants_durham.find({\"Rpt_Area_Desc\": \"Food Service\", \"Seats\": {\"$gte\": 100}})\n",
    "\n",
    "polygon_coords = []\n",
    "\n",
    "for row in filter_restaurants:\n",
    "    if row['geolocation']:\n",
    "        latitude, longitude = map(float, row['geolocation'].split(', '))\n",
    "    else:\n",
    "        continue\n",
    "    \n",
    "    polygon_coords.append([longitude, latitude])"
   ]
  },
  {
   "cell_type": "code",
   "execution_count": 25,
   "id": "395fdf52",
   "metadata": {},
   "outputs": [],
   "source": [
    "polygon_coords.append(polygon_coords[0])"
   ]
  },
  {
   "cell_type": "code",
   "execution_count": 26,
   "id": "8a5f148f",
   "metadata": {},
   "outputs": [],
   "source": [
    "# Querying the 'durham' collection for all documents that fall within the polygon and return the count of \n",
    "#those documents\n",
    "foreclosures_polygon = db.durham.find({\n",
    "    \"geometry\":{\n",
    "        \"$geoWithin\":{\n",
    "            \"$geometry\":{\n",
    "                \"type\":\"Polygon\",\n",
    "                \"coordinates\":[polygon_coords]\n",
    "            }\n",
    "        }\n",
    "    }\n",
    "})"
   ]
  },
  {
   "cell_type": "code",
   "execution_count": 27,
   "id": "eaaea5fd",
   "metadata": {},
   "outputs": [
    {
     "data": {
      "text/plain": [
       "1948"
      ]
     },
     "execution_count": 27,
     "metadata": {},
     "output_type": "execute_result"
    }
   ],
   "source": [
    "foreclosures_polygon.collection.count_documents({})"
   ]
  },
  {
   "cell_type": "code",
   "execution_count": null,
   "id": "d93753a9",
   "metadata": {},
   "outputs": [],
   "source": []
  }
 ],
 "metadata": {
  "kernelspec": {
   "display_name": "Python [conda env:bigdata]",
   "language": "python",
   "name": "conda-env-bigdata-py"
  },
  "language_info": {
   "codemirror_mode": {
    "name": "ipython",
    "version": 3
   },
   "file_extension": ".py",
   "mimetype": "text/x-python",
   "name": "python",
   "nbconvert_exporter": "python",
   "pygments_lexer": "ipython3",
   "version": "3.10.9"
  }
 },
 "nbformat": 4,
 "nbformat_minor": 5
}
